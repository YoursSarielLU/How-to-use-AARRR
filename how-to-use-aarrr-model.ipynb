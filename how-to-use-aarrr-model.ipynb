{
 "cells": [
  {
   "cell_type": "markdown",
   "id": "b7233a3f",
   "metadata": {
    "papermill": {
     "duration": 0.004827,
     "end_time": "2025-07-11T16:15:51.076609",
     "exception": false,
     "start_time": "2025-07-11T16:15:51.071782",
     "status": "completed"
    },
    "tags": []
   },
   "source": [
    "# 数据预处理"
   ]
  },
  {
   "cell_type": "markdown",
   "id": "12bbf4b1",
   "metadata": {
    "papermill": {
     "duration": 0.00357,
     "end_time": "2025-07-11T16:15:51.084362",
     "exception": false,
     "start_time": "2025-07-11T16:15:51.080792",
     "status": "completed"
    },
    "tags": []
   },
   "source": [
    "## 数据读取与探查"
   ]
  },
  {
   "cell_type": "code",
   "execution_count": 1,
   "id": "f1a5a895",
   "metadata": {
    "_cell_guid": "b1076dfc-b9ad-4769-8c92-a6c4dae69d19",
    "_uuid": "8f2839f25d086af736a60e9eeb907d3b93b6e0e5",
    "execution": {
     "iopub.execute_input": "2025-07-11T16:15:51.093366Z",
     "iopub.status.busy": "2025-07-11T16:15:51.093032Z",
     "iopub.status.idle": "2025-07-11T16:15:54.829309Z",
     "shell.execute_reply": "2025-07-11T16:15:54.828367Z"
    },
    "papermill": {
     "duration": 3.74286,
     "end_time": "2025-07-11T16:15:54.831203",
     "exception": false,
     "start_time": "2025-07-11T16:15:51.088343",
     "status": "completed"
    },
    "tags": []
   },
   "outputs": [
    {
     "name": "stdout",
     "output_type": "stream",
     "text": [
      "/kaggle/input/e-commerce-user-behavior-dataset-for-aarrr/E_commerce.csv\n"
     ]
    }
   ],
   "source": [
    "import pandas as pd\n",
    "import matplotlib.pyplot as plt\n",
    "import seaborn as sns\n",
    "\n",
    "import os\n",
    "for dirname, _, filenames in os.walk('/kaggle/input'):\n",
    "    for filename in filenames:\n",
    "        print(os.path.join(dirname, filename))"
   ]
  },
  {
   "cell_type": "code",
   "execution_count": 2,
   "id": "cf4e8c98",
   "metadata": {
    "execution": {
     "iopub.execute_input": "2025-07-11T16:15:54.841171Z",
     "iopub.status.busy": "2025-07-11T16:15:54.840742Z",
     "iopub.status.idle": "2025-07-11T16:15:55.554806Z",
     "shell.execute_reply": "2025-07-11T16:15:55.553958Z"
    },
    "papermill": {
     "duration": 0.720602,
     "end_time": "2025-07-11T16:15:55.556191",
     "exception": false,
     "start_time": "2025-07-11T16:15:54.835589",
     "status": "completed"
    },
    "tags": []
   },
   "outputs": [
    {
     "name": "stdout",
     "output_type": "stream",
     "text": [
      "数据基本信息：\n",
      "<class 'pandas.core.frame.DataFrame'>\n",
      "RangeIndex: 51289 entries, 0 to 51288\n",
      "Data columns (total 27 columns):\n",
      " #   Column               Non-Null Count  Dtype  \n",
      "---  ------               --------------  -----  \n",
      " 0   Customer ID          51289 non-null  object \n",
      " 1   Customer Name        51289 non-null  object \n",
      " 2   Segment              51289 non-null  object \n",
      " 3   City                 51289 non-null  object \n",
      " 4   State                51289 non-null  object \n",
      " 5   Country              51289 non-null  object \n",
      " 6   Region               51215 non-null  object \n",
      " 7   Gender               51289 non-null  object \n",
      " 8   Age                  51289 non-null  int64  \n",
      " 9   Education            51289 non-null  object \n",
      " 10  Marital Status       51289 non-null  object \n",
      " 11  Order ID             51289 non-null  object \n",
      " 12  Order Date           51289 non-null  object \n",
      " 13  Months               51289 non-null  object \n",
      " 14  Ship Mode            51289 non-null  object \n",
      " 15  Product Category     51289 non-null  object \n",
      " 16  Product              51289 non-null  object \n",
      " 17  Sales                51289 non-null  object \n",
      " 18  Quantity             51288 non-null  object \n",
      " 19  Discount             51289 non-null  object \n",
      " 20  Profit               51289 non-null  object \n",
      " 21  Shipping Cost        51289 non-null  object \n",
      " 22  Order Priority       51287 non-null  object \n",
      " 23  Browsing Time (min)  51289 non-null  float64\n",
      " 24  Like                 51289 non-null  int64  \n",
      " 25  Share                51289 non-null  int64  \n",
      " 26  Add to Cart          51289 non-null  int64  \n",
      "dtypes: float64(1), int64(4), object(22)\n",
      "memory usage: 10.6+ MB\n"
     ]
    },
    {
     "name": "stderr",
     "output_type": "stream",
     "text": [
      "/tmp/ipykernel_13/3418103730.py:3: DtypeWarning: Columns (18,19) have mixed types. Specify dtype option on import or set low_memory=False.\n",
      "  df = pd.read_csv(filepath)\n"
     ]
    },
    {
     "data": {
      "text/html": [
       "<div>\n",
       "<style scoped>\n",
       "    .dataframe tbody tr th:only-of-type {\n",
       "        vertical-align: middle;\n",
       "    }\n",
       "\n",
       "    .dataframe tbody tr th {\n",
       "        vertical-align: top;\n",
       "    }\n",
       "\n",
       "    .dataframe thead th {\n",
       "        text-align: right;\n",
       "    }\n",
       "</style>\n",
       "<table border=\"1\" class=\"dataframe\">\n",
       "  <thead>\n",
       "    <tr style=\"text-align: right;\">\n",
       "      <th></th>\n",
       "      <th>Age</th>\n",
       "      <th>Browsing Time (min)</th>\n",
       "      <th>Like</th>\n",
       "      <th>Share</th>\n",
       "      <th>Add to Cart</th>\n",
       "    </tr>\n",
       "  </thead>\n",
       "  <tbody>\n",
       "    <tr>\n",
       "      <th>count</th>\n",
       "      <td>51289.000000</td>\n",
       "      <td>51289.000000</td>\n",
       "      <td>51289.000000</td>\n",
       "      <td>51289.000000</td>\n",
       "      <td>51289.000000</td>\n",
       "    </tr>\n",
       "    <tr>\n",
       "      <th>mean</th>\n",
       "      <td>31.315428</td>\n",
       "      <td>17.275973</td>\n",
       "      <td>0.567315</td>\n",
       "      <td>0.505274</td>\n",
       "      <td>0.666732</td>\n",
       "    </tr>\n",
       "    <tr>\n",
       "      <th>std</th>\n",
       "      <td>11.900634</td>\n",
       "      <td>9.674191</td>\n",
       "      <td>0.495453</td>\n",
       "      <td>0.499977</td>\n",
       "      <td>0.471386</td>\n",
       "    </tr>\n",
       "    <tr>\n",
       "      <th>min</th>\n",
       "      <td>18.000000</td>\n",
       "      <td>1.000000</td>\n",
       "      <td>0.000000</td>\n",
       "      <td>0.000000</td>\n",
       "      <td>0.000000</td>\n",
       "    </tr>\n",
       "    <tr>\n",
       "      <th>25%</th>\n",
       "      <td>22.000000</td>\n",
       "      <td>9.300000</td>\n",
       "      <td>0.000000</td>\n",
       "      <td>0.000000</td>\n",
       "      <td>0.000000</td>\n",
       "    </tr>\n",
       "    <tr>\n",
       "      <th>50%</th>\n",
       "      <td>28.000000</td>\n",
       "      <td>16.500000</td>\n",
       "      <td>1.000000</td>\n",
       "      <td>1.000000</td>\n",
       "      <td>1.000000</td>\n",
       "    </tr>\n",
       "    <tr>\n",
       "      <th>75%</th>\n",
       "      <td>37.000000</td>\n",
       "      <td>24.600000</td>\n",
       "      <td>1.000000</td>\n",
       "      <td>1.000000</td>\n",
       "      <td>1.000000</td>\n",
       "    </tr>\n",
       "    <tr>\n",
       "      <th>max</th>\n",
       "      <td>70.000000</td>\n",
       "      <td>40.000000</td>\n",
       "      <td>1.000000</td>\n",
       "      <td>1.000000</td>\n",
       "      <td>1.000000</td>\n",
       "    </tr>\n",
       "  </tbody>\n",
       "</table>\n",
       "</div>"
      ],
      "text/plain": [
       "                Age  Browsing Time (min)          Like         Share  \\\n",
       "count  51289.000000         51289.000000  51289.000000  51289.000000   \n",
       "mean      31.315428            17.275973      0.567315      0.505274   \n",
       "std       11.900634             9.674191      0.495453      0.499977   \n",
       "min       18.000000             1.000000      0.000000      0.000000   \n",
       "25%       22.000000             9.300000      0.000000      0.000000   \n",
       "50%       28.000000            16.500000      1.000000      1.000000   \n",
       "75%       37.000000            24.600000      1.000000      1.000000   \n",
       "max       70.000000            40.000000      1.000000      1.000000   \n",
       "\n",
       "        Add to Cart  \n",
       "count  51289.000000  \n",
       "mean       0.666732  \n",
       "std        0.471386  \n",
       "min        0.000000  \n",
       "25%        0.000000  \n",
       "50%        1.000000  \n",
       "75%        1.000000  \n",
       "max        1.000000  "
      ]
     },
     "metadata": {},
     "output_type": "display_data"
    },
    {
     "name": "stdout",
     "output_type": "stream",
     "text": [
      "数据前5行：\n"
     ]
    },
    {
     "data": {
      "text/html": [
       "<div>\n",
       "<style scoped>\n",
       "    .dataframe tbody tr th:only-of-type {\n",
       "        vertical-align: middle;\n",
       "    }\n",
       "\n",
       "    .dataframe tbody tr th {\n",
       "        vertical-align: top;\n",
       "    }\n",
       "\n",
       "    .dataframe thead th {\n",
       "        text-align: right;\n",
       "    }\n",
       "</style>\n",
       "<table border=\"1\" class=\"dataframe\">\n",
       "  <thead>\n",
       "    <tr style=\"text-align: right;\">\n",
       "      <th></th>\n",
       "      <th>Customer ID</th>\n",
       "      <th>Customer Name</th>\n",
       "      <th>Segment</th>\n",
       "      <th>City</th>\n",
       "      <th>State</th>\n",
       "      <th>Country</th>\n",
       "      <th>Region</th>\n",
       "      <th>Gender</th>\n",
       "      <th>Age</th>\n",
       "      <th>Education</th>\n",
       "      <th>...</th>\n",
       "      <th>Sales</th>\n",
       "      <th>Quantity</th>\n",
       "      <th>Discount</th>\n",
       "      <th>Profit</th>\n",
       "      <th>Shipping Cost</th>\n",
       "      <th>Order Priority</th>\n",
       "      <th>Browsing Time (min)</th>\n",
       "      <th>Like</th>\n",
       "      <th>Share</th>\n",
       "      <th>Add to Cart</th>\n",
       "    </tr>\n",
       "  </thead>\n",
       "  <tbody>\n",
       "    <tr>\n",
       "      <th>0</th>\n",
       "      <td>LS-001</td>\n",
       "      <td>Lane Daniels</td>\n",
       "      <td>Consumer</td>\n",
       "      <td>Brisbane</td>\n",
       "      <td>Queensland</td>\n",
       "      <td>Australia</td>\n",
       "      <td>Oceania</td>\n",
       "      <td>Male</td>\n",
       "      <td>22</td>\n",
       "      <td>Associate Degree</td>\n",
       "      <td>...</td>\n",
       "      <td>$140.00</td>\n",
       "      <td>2</td>\n",
       "      <td>0.05</td>\n",
       "      <td>$46.00</td>\n",
       "      <td>$4.60</td>\n",
       "      <td>Medium</td>\n",
       "      <td>14.7</td>\n",
       "      <td>1</td>\n",
       "      <td>1</td>\n",
       "      <td>1</td>\n",
       "    </tr>\n",
       "    <tr>\n",
       "      <th>1</th>\n",
       "      <td>IZ-002</td>\n",
       "      <td>Alvarado Kriz</td>\n",
       "      <td>Home Office</td>\n",
       "      <td>Berlin</td>\n",
       "      <td>Berlin</td>\n",
       "      <td>Germany</td>\n",
       "      <td>Central</td>\n",
       "      <td>Male</td>\n",
       "      <td>32</td>\n",
       "      <td>Bachelor</td>\n",
       "      <td>...</td>\n",
       "      <td>$211.00</td>\n",
       "      <td>3</td>\n",
       "      <td>0.03</td>\n",
       "      <td>$112.00</td>\n",
       "      <td>$11.20</td>\n",
       "      <td>Medium</td>\n",
       "      <td>15.0</td>\n",
       "      <td>0</td>\n",
       "      <td>0</td>\n",
       "      <td>1</td>\n",
       "    </tr>\n",
       "    <tr>\n",
       "      <th>2</th>\n",
       "      <td>EN-003</td>\n",
       "      <td>Moon Weien</td>\n",
       "      <td>Consumer</td>\n",
       "      <td>Porirua</td>\n",
       "      <td>Wellington</td>\n",
       "      <td>New Zealand</td>\n",
       "      <td>Oceania</td>\n",
       "      <td>Male</td>\n",
       "      <td>21</td>\n",
       "      <td>High School</td>\n",
       "      <td>...</td>\n",
       "      <td>$117.00</td>\n",
       "      <td>5</td>\n",
       "      <td>0.01</td>\n",
       "      <td>$31.20</td>\n",
       "      <td>$3.10</td>\n",
       "      <td>Critical</td>\n",
       "      <td>19.9</td>\n",
       "      <td>1</td>\n",
       "      <td>1</td>\n",
       "      <td>1</td>\n",
       "    </tr>\n",
       "    <tr>\n",
       "      <th>3</th>\n",
       "      <td>AN-004</td>\n",
       "      <td>Sanchez Bergman</td>\n",
       "      <td>Corporate</td>\n",
       "      <td>Kabul</td>\n",
       "      <td>Kabul</td>\n",
       "      <td>Afghanistan</td>\n",
       "      <td>Central Asia</td>\n",
       "      <td>Male</td>\n",
       "      <td>22</td>\n",
       "      <td>Bachelor</td>\n",
       "      <td>...</td>\n",
       "      <td>$118.00</td>\n",
       "      <td>2</td>\n",
       "      <td>0.05</td>\n",
       "      <td>$26.20</td>\n",
       "      <td>$2.60</td>\n",
       "      <td>High</td>\n",
       "      <td>15.8</td>\n",
       "      <td>1</td>\n",
       "      <td>1</td>\n",
       "      <td>1</td>\n",
       "    </tr>\n",
       "    <tr>\n",
       "      <th>4</th>\n",
       "      <td>ON-005</td>\n",
       "      <td>Rowe Jackson</td>\n",
       "      <td>Corporate</td>\n",
       "      <td>Townsville</td>\n",
       "      <td>Queensland</td>\n",
       "      <td>Australia</td>\n",
       "      <td>Oceania</td>\n",
       "      <td>Male</td>\n",
       "      <td>28</td>\n",
       "      <td>Associate Degree</td>\n",
       "      <td>...</td>\n",
       "      <td>$250.00</td>\n",
       "      <td>1</td>\n",
       "      <td>0.04</td>\n",
       "      <td>$160.00</td>\n",
       "      <td>$16.00</td>\n",
       "      <td>Critical</td>\n",
       "      <td>18.1</td>\n",
       "      <td>1</td>\n",
       "      <td>1</td>\n",
       "      <td>1</td>\n",
       "    </tr>\n",
       "  </tbody>\n",
       "</table>\n",
       "<p>5 rows × 27 columns</p>\n",
       "</div>"
      ],
      "text/plain": [
       "  Customer ID    Customer Name      Segment        City       State  \\\n",
       "0      LS-001     Lane Daniels     Consumer    Brisbane  Queensland   \n",
       "1      IZ-002    Alvarado Kriz  Home Office      Berlin      Berlin   \n",
       "2      EN-003       Moon Weien     Consumer     Porirua  Wellington   \n",
       "3      AN-004  Sanchez Bergman    Corporate       Kabul       Kabul   \n",
       "4      ON-005     Rowe Jackson    Corporate  Townsville  Queensland   \n",
       "\n",
       "       Country        Region Gender  Age         Education  ...     Sales  \\\n",
       "0    Australia       Oceania   Male   22  Associate Degree  ...  $140.00    \n",
       "1      Germany       Central   Male   32          Bachelor  ...  $211.00    \n",
       "2  New Zealand       Oceania   Male   21       High School  ...  $117.00    \n",
       "3  Afghanistan  Central Asia   Male   22          Bachelor  ...  $118.00    \n",
       "4    Australia       Oceania   Male   28  Associate Degree  ...  $250.00    \n",
       "\n",
       "  Quantity Discount    Profit Shipping Cost Order Priority  \\\n",
       "0        2     0.05   $46.00         $4.60          Medium   \n",
       "1        3     0.03  $112.00        $11.20          Medium   \n",
       "2        5     0.01   $31.20         $3.10        Critical   \n",
       "3        2     0.05   $26.20         $2.60            High   \n",
       "4        1     0.04  $160.00        $16.00        Critical   \n",
       "\n",
       "  Browsing Time (min) Like Share Add to Cart  \n",
       "0                14.7    1     1           1  \n",
       "1                15.0    0     0           1  \n",
       "2                19.9    1     1           1  \n",
       "3                15.8    1     1           1  \n",
       "4                18.1    1     1           1  \n",
       "\n",
       "[5 rows x 27 columns]"
      ]
     },
     "metadata": {},
     "output_type": "display_data"
    }
   ],
   "source": [
    "# 加载数据集\n",
    "filepath = \"/kaggle/input/e-commerce-user-behavior-dataset-for-aarrr/E_commerce.csv\"\n",
    "df = pd.read_csv(filepath)\n",
    "\n",
    "# 查看数据的基本信息\n",
    "print('数据基本信息：')\n",
    "df.info()\n",
    "display(df.describe())\n",
    "\n",
    "# 查看数据前5行\n",
    "print(\"数据前5行：\")\n",
    "display(df.head())"
   ]
  },
  {
   "cell_type": "markdown",
   "id": "dc718f71",
   "metadata": {
    "papermill": {
     "duration": 0.004383,
     "end_time": "2025-07-11T16:15:55.565335",
     "exception": false,
     "start_time": "2025-07-11T16:15:55.560952",
     "status": "completed"
    },
    "tags": []
   },
   "source": [
    "## 异常值处理"
   ]
  },
  {
   "cell_type": "code",
   "execution_count": 3,
   "id": "fdb20672",
   "metadata": {
    "execution": {
     "iopub.execute_input": "2025-07-11T16:15:55.576859Z",
     "iopub.status.busy": "2025-07-11T16:15:55.575868Z",
     "iopub.status.idle": "2025-07-11T16:15:55.955088Z",
     "shell.execute_reply": "2025-07-11T16:15:55.954106Z"
    },
    "papermill": {
     "duration": 0.386785,
     "end_time": "2025-07-11T16:15:55.956716",
     "exception": false,
     "start_time": "2025-07-11T16:15:55.569931",
     "status": "completed"
    },
    "tags": []
   },
   "outputs": [],
   "source": [
    "# 读取数据并指定可疑列类型为字符串\n",
    "df = pd.read_csv(filepath, dtype={\n",
    "    'Quantity': str, \n",
    "    'Discount': str,\n",
    "    'Sales': str,\n",
    "    'Profit': str\n",
    "})"
   ]
  },
  {
   "cell_type": "code",
   "execution_count": 4,
   "id": "48b0b7bc",
   "metadata": {
    "execution": {
     "iopub.execute_input": "2025-07-11T16:15:55.967496Z",
     "iopub.status.busy": "2025-07-11T16:15:55.967140Z",
     "iopub.status.idle": "2025-07-11T16:15:56.134907Z",
     "shell.execute_reply": "2025-07-11T16:15:56.134047Z"
    },
    "papermill": {
     "duration": 0.175035,
     "end_time": "2025-07-11T16:15:56.136527",
     "exception": false,
     "start_time": "2025-07-11T16:15:55.961492",
     "status": "completed"
    },
    "tags": []
   },
   "outputs": [],
   "source": [
    "# 数值列清洗与转换\n",
    "# 处理销售额（移除$和空格，转换为float）\n",
    "df['Sales'] = df['Sales'].replace(r'[\\$,\\s]', '', regex=True)\n",
    "df['Sales'] = pd.to_numeric(df['Sales'], errors='coerce')  # 无法转换的设为NaN\n",
    "\n",
    "# 处理利润（同上）\n",
    "df['Profit'] = df['Profit'].replace(r'[\\$,\\s]', '', regex=True)\n",
    "df['Profit'] = pd.to_numeric(df['Profit'], errors='coerce')\n",
    "\n",
    "# 处理数量（转换为整数）\n",
    "df['Quantity'] = pd.to_numeric(df['Quantity'], errors='coerce')\n",
    "df['Quantity'] = df['Quantity'].fillna(df['Quantity'].mode()[0] if not df['Quantity'].mode().empty else 1)  # 用众数填充缺失值\n",
    "\n",
    "# 处理折扣（转换为小数）\n",
    "df['Discount'] = pd.to_numeric(df['Discount'], errors='coerce')\n",
    "df['Discount'] = df['Discount'].fillna(0)  # 缺失折扣视为无折扣\n"
   ]
  },
  {
   "cell_type": "code",
   "execution_count": 5,
   "id": "11791527",
   "metadata": {
    "execution": {
     "iopub.execute_input": "2025-07-11T16:15:56.148277Z",
     "iopub.status.busy": "2025-07-11T16:15:56.147432Z",
     "iopub.status.idle": "2025-07-11T16:15:56.159774Z",
     "shell.execute_reply": "2025-07-11T16:15:56.158725Z"
    },
    "papermill": {
     "duration": 0.019745,
     "end_time": "2025-07-11T16:15:56.161251",
     "exception": false,
     "start_time": "2025-07-11T16:15:56.141506",
     "status": "completed"
    },
    "tags": []
   },
   "outputs": [
    {
     "name": "stdout",
     "output_type": "stream",
     "text": [
      "  Customer ID    Customer Name      Segment        City       State  \\\n",
      "0      LS-001     Lane Daniels     Consumer    Brisbane  Queensland   \n",
      "1      IZ-002    Alvarado Kriz  Home Office      Berlin      Berlin   \n",
      "2      EN-003       Moon Weien     Consumer     Porirua  Wellington   \n",
      "3      AN-004  Sanchez Bergman    Corporate       Kabul       Kabul   \n",
      "4      ON-005     Rowe Jackson    Corporate  Townsville  Queensland   \n",
      "\n",
      "       Country        Region Gender  Age         Education  ...  Sales  \\\n",
      "0    Australia       Oceania   Male   22  Associate Degree  ...  140.0   \n",
      "1      Germany       Central   Male   32          Bachelor  ...  211.0   \n",
      "2  New Zealand       Oceania   Male   21       High School  ...  117.0   \n",
      "3  Afghanistan  Central Asia   Male   22          Bachelor  ...  118.0   \n",
      "4    Australia       Oceania   Male   28  Associate Degree  ...  250.0   \n",
      "\n",
      "  Quantity Discount Profit Shipping Cost Order Priority Browsing Time (min)  \\\n",
      "0      2.0     0.05   46.0        $4.60          Medium                14.7   \n",
      "1      3.0     0.03  112.0       $11.20          Medium                15.0   \n",
      "2      5.0     0.01   31.2        $3.10        Critical                19.9   \n",
      "3      2.0     0.05   26.2        $2.60            High                15.8   \n",
      "4      1.0     0.04  160.0       $16.00        Critical                18.1   \n",
      "\n",
      "   Like  Share  Add to Cart  \n",
      "0     1      1            1  \n",
      "1     0      0            1  \n",
      "2     1      1            1  \n",
      "3     1      1            1  \n",
      "4     1      1            1  \n",
      "\n",
      "[5 rows x 27 columns]\n"
     ]
    }
   ],
   "source": [
    "print(df.head(5))"
   ]
  },
  {
   "cell_type": "code",
   "execution_count": 6,
   "id": "6ff22850",
   "metadata": {
    "execution": {
     "iopub.execute_input": "2025-07-11T16:15:56.174384Z",
     "iopub.status.busy": "2025-07-11T16:15:56.173403Z",
     "iopub.status.idle": "2025-07-11T16:15:57.174227Z",
     "shell.execute_reply": "2025-07-11T16:15:57.172939Z"
    },
    "papermill": {
     "duration": 1.00874,
     "end_time": "2025-07-11T16:15:57.175949",
     "exception": false,
     "start_time": "2025-07-11T16:15:56.167209",
     "status": "completed"
    },
    "tags": []
   },
   "outputs": [
    {
     "data": {
      "image/png": "[encoded data removed]",
      "text/plain": [
       "<Figure size 4500x1500 with 6 Axes>"
      ]
     },
     "metadata": {},
     "output_type": "display_data"
    },
    {
     "name": "stdout",
     "output_type": "stream",
     "text": [
      "数值型列的描述性统计数据：\n",
      "            Age  Browsing Time (min)     Sales  Quantity  Discount    Profit\n",
      "count  51289.00             51289.00  51288.00  51289.00  51289.00  51289.00\n",
      "mean      31.32                17.28    156.43      3.00      0.03     72.73\n",
      "std       11.90                 9.67     65.78      1.41      0.01     49.10\n",
      "min       18.00                 1.00     33.00      1.00      0.00      0.50\n",
      "25%       22.00                 9.30    109.00      2.00      0.02     25.70\n",
      "50%       28.00                16.50    159.00      3.00      0.03     67.00\n",
      "75%       37.00                24.60    218.00      4.00      0.04    120.60\n",
      "max       70.00                40.00    250.00      5.00      0.05    167.50\n",
      "Customer ID 的唯一值数量：795\n",
      "Customer Name 的唯一值数量：795\n",
      "Segment 的唯一值数量：3\n",
      "City 的唯一值数量：548\n",
      "State 的唯一值数量：320\n",
      "Country 的唯一值数量：84\n",
      "Region 的唯一值数量：14\n",
      "Gender 的唯一值数量：2\n",
      "Education 的唯一值数量：5\n",
      "Marital Status 的唯一值数量：2\n",
      "Order ID 的唯一值数量：51273\n",
      "Order Date 的唯一值数量：664\n",
      "Months 的唯一值数量：12\n",
      "Ship Mode 的唯一值数量：5\n",
      "Product Category 的唯一值数量：4\n",
      "Product 的唯一值数量：42\n",
      "Shipping Cost 的唯一值数量：154\n",
      "Order Priority 的唯一值数量：4\n"
     ]
    }
   ],
   "source": [
    "# 设置图片清晰度\n",
    "plt.rcParams['figure.dpi'] = 300\n",
    "\n",
    "# 定义需要分析的数值型列\n",
    "numeric_columns = ['Age', 'Browsing Time (min)', 'Sales','Quantity','Discount','Profit']\n",
    "\n",
    "# 绘制箱线图查看异常值\n",
    "fig, axes = plt.subplots(1, len(numeric_columns), figsize=(15, 5))\n",
    "for i, col in enumerate(numeric_columns):\n",
    "    sns.boxplot(data=df, x=col, ax=axes[i])\n",
    "    axes[i].set_title(f'{col} Boxplot')\n",
    "plt.show()\n",
    "\n",
    "# 查看数值型列的描述性统计数据，保留两位小数\n",
    "print('数值型列的描述性统计数据：')\n",
    "print(df[numeric_columns].describe().round(2))\n",
    "\n",
    "# 对 object 类型的列，查看其唯一值数量\n",
    "object_columns = df.select_dtypes(include=['object']).columns\n",
    "for col in object_columns:\n",
    "    print(f'{col} 的唯一值数量：{df[col].nunique()}')"
   ]
  },
  {
   "cell_type": "markdown",
   "id": "ee2637bf",
   "metadata": {
    "papermill": {
     "duration": 0.006198,
     "end_time": "2025-07-11T16:15:57.188993",
     "exception": false,
     "start_time": "2025-07-11T16:15:57.182795",
     "status": "completed"
    },
    "tags": []
   },
   "source": [
    "## 缺省值处理"
   ]
  },
  {
   "cell_type": "code",
   "execution_count": 7,
   "id": "909a22e5",
   "metadata": {
    "execution": {
     "iopub.execute_input": "2025-07-11T16:15:57.203592Z",
     "iopub.status.busy": "2025-07-11T16:15:57.202620Z",
     "iopub.status.idle": "2025-07-11T16:15:57.255527Z",
     "shell.execute_reply": "2025-07-11T16:15:57.254397Z"
    },
    "papermill": {
     "duration": 0.061702,
     "end_time": "2025-07-11T16:15:57.257037",
     "exception": false,
     "start_time": "2025-07-11T16:15:57.195335",
     "status": "completed"
    },
    "tags": []
   },
   "outputs": [
    {
     "name": "stdout",
     "output_type": "stream",
     "text": [
      "缺失值数量：\n",
      "Customer ID             0\n",
      "Customer Name           0\n",
      "Segment                 0\n",
      "City                    0\n",
      "State                   0\n",
      "Country                 0\n",
      "Region                 74\n",
      "Gender                  0\n",
      "Age                     0\n",
      "Education               0\n",
      "Marital Status          0\n",
      "Order ID                0\n",
      "Order Date              0\n",
      "Months                  0\n",
      "Ship Mode               0\n",
      "Product Category        0\n",
      "Product                 0\n",
      "Sales                   1\n",
      "Quantity                0\n",
      "Discount                0\n",
      "Profit                  0\n",
      "Shipping Cost           0\n",
      "Order Priority          2\n",
      "Browsing Time (min)     0\n",
      "Like                    0\n",
      "Share                   0\n",
      "Add to Cart             0\n",
      "dtype: int64\n"
     ]
    }
   ],
   "source": [
    "# 检查缺失值\n",
    "missing_values = df.isnull().sum()\n",
    "print('缺失值数量：')\n",
    "print(missing_values)"
   ]
  },
  {
   "cell_type": "code",
   "execution_count": 8,
   "id": "406789fc",
   "metadata": {
    "execution": {
     "iopub.execute_input": "2025-07-11T16:15:57.271972Z",
     "iopub.status.busy": "2025-07-11T16:15:57.271337Z",
     "iopub.status.idle": "2025-07-11T16:15:57.699840Z",
     "shell.execute_reply": "2025-07-11T16:15:57.698729Z"
    },
    "papermill": {
     "duration": 0.437461,
     "end_time": "2025-07-11T16:15:57.701422",
     "exception": false,
     "start_time": "2025-07-11T16:15:57.263961",
     "status": "completed"
    },
    "tags": []
   },
   "outputs": [
    {
     "name": "stdout",
     "output_type": "stream",
     "text": [
      "处理后的缺失值数量：\n",
      "Customer ID            0\n",
      "Customer Name          0\n",
      "Segment                0\n",
      "City                   0\n",
      "State                  0\n",
      "Country                0\n",
      "Region                 0\n",
      "Gender                 0\n",
      "Age                    0\n",
      "Education              0\n",
      "Marital Status         0\n",
      "Order ID               0\n",
      "Order Date             0\n",
      "Months                 0\n",
      "Ship Mode              0\n",
      "Product Category       0\n",
      "Product                0\n",
      "Sales                  0\n",
      "Quantity               0\n",
      "Discount               0\n",
      "Profit                 0\n",
      "Shipping Cost          0\n",
      "Order Priority         0\n",
      "Browsing Time (min)    0\n",
      "Like                   0\n",
      "Share                  0\n",
      "Add to Cart            0\n",
      "dtype: int64\n"
     ]
    }
   ],
   "source": [
    "# 根据检查结果指定数据类型\n",
    "# 如果Quantity包含非数值，先以字符串形式读取\n",
    "df = pd.read_csv(filepath, dtype={'Quantity': str, 'Discount': str})\n",
    "\n",
    "# 数据清洗和类型转换（避免链式赋值）\n",
    "# 处理缺失值\n",
    "df['Region'] = df['Region'].fillna(df['Region'].mode()[0])\n",
    "df['Quantity'] = df['Quantity'].fillna(df['Quantity'].mode()[0])\n",
    "df['Order Priority'] = df['Order Priority'].fillna(df['Order Priority'].mode()[0])\n",
    "\n",
    "# 再次检查缺失值\n",
    "missing_values = df.isnull().sum()\n",
    "print('处理后的缺失值数量：')\n",
    "print(missing_values)"
   ]
  },
  {
   "cell_type": "markdown",
   "id": "7dacacfc",
   "metadata": {
    "papermill": {
     "duration": 0.006979,
     "end_time": "2025-07-11T16:15:57.715733",
     "exception": false,
     "start_time": "2025-07-11T16:15:57.708754",
     "status": "completed"
    },
    "tags": []
   },
   "source": [
    "# AARRR模型建立"
   ]
  },
  {
   "cell_type": "markdown",
   "id": "ac9c48c7",
   "metadata": {
    "papermill": {
     "duration": 0.006276,
     "end_time": "2025-07-11T16:15:57.728535",
     "exception": false,
     "start_time": "2025-07-11T16:15:57.722259",
     "status": "completed"
    },
    "tags": []
   },
   "source": [
    "## 获客"
   ]
  },
  {
   "cell_type": "code",
   "execution_count": 9,
   "id": "d0500038",
   "metadata": {
    "execution": {
     "iopub.execute_input": "2025-07-11T16:15:57.744655Z",
     "iopub.status.busy": "2025-07-11T16:15:57.744329Z",
     "iopub.status.idle": "2025-07-11T16:15:57.775717Z",
     "shell.execute_reply": "2025-07-11T16:15:57.774528Z"
    },
    "papermill": {
     "duration": 0.041259,
     "end_time": "2025-07-11T16:15:57.777363",
     "exception": false,
     "start_time": "2025-07-11T16:15:57.736104",
     "status": "completed"
    },
    "tags": []
   },
   "outputs": [
    {
     "name": "stdout",
     "output_type": "stream",
     "text": [
      "Top10用户来源地区：\n",
      "            Region  用户数         占比\n",
      "3          Central  170  21.383648\n",
      "11           South  104  13.081761\n",
      "7            North   85  10.691824\n",
      "9          Oceania   65   8.176101\n",
      "8       North Asia   58   7.295597\n",
      "13            West   53   6.666667\n",
      "12  Southeast Asia   52   6.540881\n",
      "0           Africa   51   6.415094\n",
      "5             EMEA   51   6.415094\n",
      "6             East   48   6.037736\n",
      "\n",
      "Top5用户来源国家：\n",
      "          Country  用户数\n",
      "81  United States  155\n",
      "26         France   62\n",
      "4       Australia   58\n",
      "48         Mexico   57\n",
      "17          China   50\n"
     ]
    }
   ],
   "source": [
    "# 按地区统计用户数量及占比\n",
    "acquisition_by_region = df.groupby('Region')['Customer ID'].nunique().reset_index()\n",
    "acquisition_by_region = acquisition_by_region.rename(columns={'Customer ID': '用户数'})\n",
    "acquisition_by_region['占比'] = acquisition_by_region['用户数'] / acquisition_by_region['用户数'].sum() * 100\n",
    "acquisition_by_region = acquisition_by_region.sort_values('用户数', ascending=False).head(10)  # 取Top10\n",
    "\n",
    "# 按国家统计Top5用户来源\n",
    "acquisition_by_country = df.groupby('Country')['Customer ID'].nunique().reset_index()\n",
    "acquisition_by_country = acquisition_by_country.rename(columns={'Customer ID': '用户数'}).sort_values('用户数', ascending=False).head(5)\n",
    "\n",
    "print(\"Top10用户来源地区：\")\n",
    "print(acquisition_by_region)\n",
    "print(\"\\nTop5用户来源国家：\")\n",
    "print(acquisition_by_country)"
   ]
  },
  {
   "cell_type": "markdown",
   "id": "15504bce",
   "metadata": {
    "papermill": {
     "duration": 0.007175,
     "end_time": "2025-07-11T16:15:57.791428",
     "exception": false,
     "start_time": "2025-07-11T16:15:57.784253",
     "status": "completed"
    },
    "tags": []
   },
   "source": [
    "## 激活"
   ]
  },
  {
   "cell_type": "code",
   "execution_count": 10,
   "id": "65235ea0",
   "metadata": {
    "execution": {
     "iopub.execute_input": "2025-07-11T16:15:57.807294Z",
     "iopub.status.busy": "2025-07-11T16:15:57.806334Z",
     "iopub.status.idle": "2025-07-11T16:15:57.840606Z",
     "shell.execute_reply": "2025-07-11T16:15:57.839444Z"
    },
    "papermill": {
     "duration": 0.044111,
     "end_time": "2025-07-11T16:15:57.842290",
     "exception": false,
     "start_time": "2025-07-11T16:15:57.798179",
     "status": "completed"
    },
    "tags": []
   },
   "outputs": [
    {
     "name": "stdout",
     "output_type": "stream",
     "text": [
      "各用户细分的激活率：\n",
      "       Segment  用户数     激活率(%)\n",
      "0     Consumer  409  40.530960\n",
      "1    Corporate  238  41.603474\n",
      "2  Home Office  148  40.644402\n",
      "\n",
      "激活用户的行为特征：\n",
      "   平均浏览时长(min)     加购率(%)     点赞率(%)     分享率(%)\n",
      "0    26.089678  82.651212  72.595879  66.452013\n"
     ]
    }
   ],
   "source": [
    "# 定义激活用户：浏览时长>均值 且 至少有一次加购/点赞/分享\n",
    "avg_browsing = df['Browsing Time (min)'].mean()\n",
    "df['是否激活'] = (df['Browsing Time (min)'] > avg_browsing) & (\n",
    "    (df['Add to Cart'] > 0) | (df['Like'] > 0) | (df['Share'] > 0)\n",
    ")\n",
    "\n",
    "# 按用户细分（Segment）统计激活率\n",
    "activation_by_segment = df.groupby('Segment').agg({\n",
    "    'Customer ID': 'nunique',\n",
    "    '是否激活': lambda x: (x.sum() / len(x)) * 100\n",
    "}).reset_index()\n",
    "activation_by_segment = activation_by_segment.rename(columns={\n",
    "    'Customer ID': '用户数',\n",
    "    '是否激活': '激活率(%)'\n",
    "})\n",
    "\n",
    "# 激活用户的行为特征\n",
    "activated_users = df[df['是否激活'] == True]\n",
    "activation_behavior = pd.DataFrame({\n",
    "    '平均浏览时长(min)': [activated_users['Browsing Time (min)'].mean()],\n",
    "    '加购率(%)': [(activated_users['Add to Cart'].sum() / len(activated_users)) * 100],\n",
    "    '点赞率(%)': [(activated_users['Like'].sum() / len(activated_users)) * 100],\n",
    "    '分享率(%)': [(activated_users['Share'].sum() / len(activated_users)) * 100]\n",
    "})\n",
    "\n",
    "print(\"各用户细分的激活率：\")\n",
    "print(activation_by_segment)\n",
    "print(\"\\n激活用户的行为特征：\")\n",
    "print(activation_behavior)"
   ]
  },
  {
   "cell_type": "markdown",
   "id": "05b56ce4",
   "metadata": {
    "papermill": {
     "duration": 0.006645,
     "end_time": "2025-07-11T16:15:57.856243",
     "exception": false,
     "start_time": "2025-07-11T16:15:57.849598",
     "status": "completed"
    },
    "tags": []
   },
   "source": [
    "## 留存"
   ]
  },
  {
   "cell_type": "code",
   "execution_count": 11,
   "id": "64c39672",
   "metadata": {
    "execution": {
     "iopub.execute_input": "2025-07-11T16:15:57.871878Z",
     "iopub.status.busy": "2025-07-11T16:15:57.871575Z",
     "iopub.status.idle": "2025-07-11T16:15:57.925274Z",
     "shell.execute_reply": "2025-07-11T16:15:57.924373Z"
    },
    "papermill": {
     "duration": 0.063895,
     "end_time": "2025-07-11T16:15:57.927074",
     "exception": false,
     "start_time": "2025-07-11T16:15:57.863179",
     "status": "completed"
    },
    "tags": []
   },
   "outputs": [
    {
     "name": "stdout",
     "output_type": "stream",
     "text": [
      "整体复购率：100.00%\n",
      "\n",
      "复购用户主要地区（Top5）：\n",
      "        Region  复购用户数\n",
      "3      Central    170\n",
      "11       South    104\n",
      "7        North     85\n",
      "9      Oceania     65\n",
      "8   North Asia     58\n"
     ]
    }
   ],
   "source": [
    "# 统计每个用户的购买次数\n",
    "user_purchase_count = df.groupby('Customer ID')['Order ID'].nunique().reset_index()\n",
    "user_purchase_count = user_purchase_count.rename(columns={'Order ID': '购买次数'})\n",
    "\n",
    "# 计算复购率（购买次数≥2的用户占比）\n",
    "repurchase_users = user_purchase_count[user_purchase_count['购买次数'] >= 2]\n",
    "repurchase_rate = (len(repurchase_users) / len(user_purchase_count)) * 100\n",
    "\n",
    "# 复购用户的特征（按地区）\n",
    "repurchase_user_ids = repurchase_users['Customer ID'].unique()\n",
    "repurchase_data = df[df['Customer ID'].isin(repurchase_user_ids)]\n",
    "repurchase_by_region = repurchase_data.groupby('Region')['Customer ID'].nunique().reset_index()\n",
    "repurchase_by_region = repurchase_by_region.rename(columns={'Customer ID': '复购用户数'})\n",
    "repurchase_by_region = repurchase_by_region.sort_values('复购用户数', ascending=False).head(5)\n",
    "\n",
    "print(f\"整体复购率：{repurchase_rate:.2f}%\")\n",
    "print(\"\\n复购用户主要地区（Top5）：\")\n",
    "print(repurchase_by_region)"
   ]
  },
  {
   "cell_type": "markdown",
   "id": "6eb9fa77",
   "metadata": {
    "papermill": {
     "duration": 0.00668,
     "end_time": "2025-07-11T16:15:57.940710",
     "exception": false,
     "start_time": "2025-07-11T16:15:57.934030",
     "status": "completed"
    },
    "tags": []
   },
   "source": [
    "## 转化"
   ]
  },
  {
   "cell_type": "code",
   "execution_count": 12,
   "id": "c1d72928",
   "metadata": {
    "execution": {
     "iopub.execute_input": "2025-07-11T16:15:57.956548Z",
     "iopub.status.busy": "2025-07-11T16:15:57.956219Z",
     "iopub.status.idle": "2025-07-11T16:15:58.159805Z",
     "shell.execute_reply": "2025-07-11T16:15:58.158687Z"
    },
    "papermill": {
     "duration": 0.213774,
     "end_time": "2025-07-11T16:15:58.161223",
     "exception": false,
     "start_time": "2025-07-11T16:15:57.947449",
     "status": "completed"
    },
    "tags": []
   },
   "outputs": [
    {
     "name": "stdout",
     "output_type": "stream",
     "text": [
      "Top5销售额产品（按总销售额排序）：\n",
      "          Product     Sales  Quantity\n",
      "35     T - Shirts  692912.0    8346.0\n",
      "37    Titak watch  637260.0    8535.0\n",
      "25  Running Shoes  626080.0    8345.0\n",
      "19          Jeans  609092.0    8266.0\n",
      "16   Formal Shoes  595335.0    8438.0\n",
      "\n",
      "Top5利润产品（按总利润排序）：\n",
      "          Product    Profit\n",
      "35     T - Shirts  407717.3\n",
      "37    Titak watch  355243.2\n",
      "25  Running Shoes  346339.9\n",
      "19          Jeans  331899.2\n",
      "16   Formal Shoes  318379.6\n",
      "\n",
      "不同用户细分的收入贡献：\n",
      "       Segment      Sales     Profit       客单价\n",
      "0     Consumer  4135010.0  1915800.9  10110.05\n",
      "1    Corporate  2421560.0  1128812.0  10174.62\n",
      "2  Home Office  1466528.0   685446.0   9908.97\n"
     ]
    }
   ],
   "source": [
    "# 单独处理Sales列（暴力清理所有非数字字符，确保转为数值）\n",
    "df['Sales'] = df['Sales'].astype(str).str.replace(r'[^\\d.]', '', regex=True)  # 只保留数字和小数点\n",
    "df['Sales'] = pd.to_numeric(df['Sales'], errors='coerce').fillna(0)  # 转数值，缺失填0\n",
    "\n",
    "# 处理Quantity列，确保为数值类型（若原始有符号/字母，同样清理）\n",
    "df['Quantity'] = df['Quantity'].astype(str).str.replace(r'[^\\d.]', '', regex=True)\n",
    "df['Quantity'] = pd.to_numeric(df['Quantity'], errors='coerce').fillna(0)\n",
    "\n",
    "# 暴力清理Profit列（删除$、逗号等非数字字符）\n",
    "df['Profit'] = df['Profit'].astype(str).str.replace(r'[^\\d.-]', '', regex=True)  \n",
    "df['Profit'] = pd.to_numeric(df['Profit'], errors='coerce').fillna(0)  # 转数值，缺失填0\n",
    "\n",
    "# 1. 产品维度：计算销售额总和、利润总和、销量总和（Quantity求和）\n",
    "product_revenue = df.groupby('Product').agg({\n",
    "    'Sales': 'sum',\n",
    "    'Profit': 'sum',\n",
    "    'Quantity': 'sum'  # 这里改为求和，得到该产品的总销量\n",
    "}).reset_index()\n",
    "top_sales_product = product_revenue.sort_values('Sales', ascending=False).head(5)\n",
    "top_profit_product = product_revenue.sort_values('Profit', ascending=False).head(5)\n",
    "\n",
    "# 2. 用户维度（保持原逻辑，确保调用的是修复后的df）\n",
    "user_revenue = df.groupby('Segment').agg({\n",
    "    'Sales': 'sum',\n",
    "    'Profit': 'sum',\n",
    "    'Customer ID': 'nunique'\n",
    "}).reset_index()\n",
    "\n",
    "# 严格计算客单价：总销售额 / 独立用户数（确保无NaN，除数非0）\n",
    "user_revenue = user_revenue.dropna(subset=['Sales', 'Customer ID'])  # 过滤关键列缺失\n",
    "user_revenue = user_revenue[user_revenue['Customer ID'] > 0]  # 避免除以0\n",
    "user_revenue['客单价'] = user_revenue['Sales'] / user_revenue['Customer ID']\n",
    "\n",
    "print(\"Top5销售额产品（按总销售额排序）：\")\n",
    "# 只展示Product、Sales总和、Quantity总和，且Quantity保留整数（销量一般是整数）\n",
    "print(top_sales_product[['Product', 'Sales', 'Quantity']].round({\n",
    "    'Sales': 2, \n",
    "    'Quantity': 0  # Quantity按整数展示\n",
    "}))  \n",
    "print(\"\\nTop5利润产品（按总利润排序）：\")\n",
    "print(top_profit_product[['Product', 'Profit']].round(2))\n",
    "print(\"\\n不同用户细分的收入贡献：\")\n",
    "print(user_revenue[['Segment', 'Sales', 'Profit', '客单价']].round(2))"
   ]
  },
  {
   "cell_type": "markdown",
   "id": "8845f67d",
   "metadata": {
    "papermill": {
     "duration": 0.006523,
     "end_time": "2025-07-11T16:15:58.174752",
     "exception": false,
     "start_time": "2025-07-11T16:15:58.168229",
     "status": "completed"
    },
    "tags": []
   },
   "source": [
    "## 传播"
   ]
  },
  {
   "cell_type": "code",
   "execution_count": 13,
   "id": "5cee209e",
   "metadata": {
    "execution": {
     "iopub.execute_input": "2025-07-11T16:15:58.189884Z",
     "iopub.status.busy": "2025-07-11T16:15:58.189600Z",
     "iopub.status.idle": "2025-07-11T16:15:58.773596Z",
     "shell.execute_reply": "2025-07-11T16:15:58.772291Z"
    },
    "papermill": {
     "duration": 0.593984,
     "end_time": "2025-07-11T16:15:58.775589",
     "exception": false,
     "start_time": "2025-07-11T16:15:58.181605",
     "status": "completed"
    },
    "tags": []
   },
   "outputs": [
    {
     "name": "stderr",
     "output_type": "stream",
     "text": [
      "/tmp/ipykernel_13/840200786.py:5: DtypeWarning: Columns (18,19) have mixed types. Specify dtype option on import or set low_memory=False.\n",
      "  df = pd.read_csv(\n",
      "/tmp/ipykernel_13/840200786.py:65: DeprecationWarning: DataFrameGroupBy.apply operated on the grouping columns. This behavior is deprecated, and in a future version of pandas the grouping columns will be excluded from the operation. Either pass `include_groups=False` to exclude the groupings or explicitly select the grouping columns after groupby to silence this warning.\n",
      "  share_rate_segment = df.groupby('Segment').apply(\n",
      "/tmp/ipykernel_13/840200786.py:70: DeprecationWarning: DataFrameGroupBy.apply operated on the grouping columns. This behavior is deprecated, and in a future version of pandas the grouping columns will be excluded from the operation. Either pass `include_groups=False` to exclude the groupings or explicitly select the grouping columns after groupby to silence this warning.\n",
      "  share_rate_product = df.groupby('Product').apply(\n",
      "/tmp/ipykernel_13/840200786.py:75: DeprecationWarning: DataFrameGroupBy.apply operated on the grouping columns. This behavior is deprecated, and in a future version of pandas the grouping columns will be excluded from the operation. Either pass `include_groups=False` to exclude the groupings or explicitly select the grouping columns after groupby to silence this warning.\n",
      "  share_rate_region = df.groupby('Region').apply(\n"
     ]
    },
    {
     "name": "stdout",
     "output_type": "stream",
     "text": [
      "\n",
      "=== 基础传播指标（去重后） ===\n",
      "总独立用户数：795\n",
      "整体分享率：50.19% （399/795）\n",
      "整体点赞率：55.09% （438/795）\n",
      "\n",
      "=== 2.1 不同用户细分的分享率（去重后） ===\n",
      "       Segment  分享率(%)\n",
      "0     Consumer   50.61\n",
      "1    Corporate   49.58\n",
      "2  Home Office   50.00\n",
      "\n",
      "=== 2.2 Top10高分享产品（去重后） ===\n",
      "         Product  分享率(%)\n",
      "7    Sports Wear   57.14\n",
      "1   Formal Shoes   54.55\n",
      "10   Titak watch   52.94\n",
      "9     T - Shirts   52.70\n",
      "8          Suits   51.47\n",
      "\n",
      "=== 2.3 Top10高分享地区（去重后） ===\n",
      "         Region  分享率(%)\n",
      "2     Caribbean   72.22\n",
      "9       Oceania   55.38\n",
      "4  Central Asia   54.55\n",
      "8    North Asia   53.45\n",
      "3       Central   51.48\n",
      "\n",
      "=== 3. 分享用户 vs 未分享用户的消费差异（去重后） ===\n",
      "                分享用户       未分享用户     差异(%)\n",
      "Sales     168.398496  166.340909   1.23697\n",
      "Profit     79.182707   79.242929 -0.075997\n",
      "Quantity    2.942356    2.962121 -0.667269\n"
     ]
    }
   ],
   "source": [
    "import pandas as pd\n",
    "\n",
    "# ================ 1. 读取数据（指定 dtype 避免混合类型） ================\n",
    "# 明确指定数值列为字符串（后续统一清洗），避免 mixed types 警告\n",
    "df = pd.read_csv(\n",
    "    filepath, \n",
    "    dtype={\n",
    "        'Sales': str, \n",
    "        'Profit': str, \n",
    "        'Customer ID': str  # 确保用户ID为字符串\n",
    "    }\n",
    ")\n",
    "\n",
    "\n",
    "# ================ 2. 数据清洗（核心：处理货币符号和字符串） ================\n",
    "def clean_numeric_column(df, col_name):\n",
    "    \"\"\"\n",
    "    清洗货币列：\n",
    "    1. 移除 $、空格等非数字字符\n",
    "    2. 转换为 float 类型\n",
    "    3. 填充缺失值为 0\n",
    "    \"\"\"\n",
    "    df[col_name] = df[col_name].str.replace(r'[^\\d.-]', '', regex=True)  # 保留数字、小数点、负号\n",
    "    df[col_name] = pd.to_numeric(df[col_name], errors='coerce').fillna(0).astype(float)\n",
    "    return df\n",
    "\n",
    "# 清洗关键数值列\n",
    "df = clean_numeric_column(df, 'Sales')\n",
    "df = clean_numeric_column(df, 'Profit')\n",
    "\n",
    "\n",
    "# ================ 3. 处理用户ID重复（确保1用户1行） ================\n",
    "# 去重：保留每个用户最后一次记录（或首行，按业务需求）\n",
    "df = df.drop_duplicates(subset='Customer ID', keep='last').reset_index(drop=True)\n",
    "\n",
    "\n",
    "# ================ 4. 规范分享/点赞标记（确保0/1） ================\n",
    "df['Share'] = df['Share'].fillna(0).astype(int)\n",
    "df['Share'] = df['Share'].apply(lambda x: 1 if x >= 1 else 0)  # 1=分享过，0=未分享\n",
    "\n",
    "df['Like'] = df['Like'].fillna(0).astype(int)\n",
    "df['Like'] = df['Like'].apply(lambda x: 1 if x >= 1 else 0)    # 1=点赞过，0=未点赞\n",
    "\n",
    "\n",
    "# ================ 5. 核心指标计算（确保数值正确） ================\n",
    "# 5.1 基础传播指标\n",
    "total_unique_users = df['Customer ID'].nunique()\n",
    "shared_unique_users = df[df['Share'] == 1]['Customer ID'].nunique()\n",
    "liked_unique_users = df[df['Like'] == 1]['Customer ID'].nunique()\n",
    "\n",
    "print(\"\\n=== 基础传播指标（去重后） ===\")\n",
    "print(f\"总独立用户数：{total_unique_users}\")\n",
    "print(f\"整体分享率：{shared_unique_users / total_unique_users * 100:.2f}% （{shared_unique_users}/{total_unique_users}）\")\n",
    "print(f\"整体点赞率：{liked_unique_users / total_unique_users * 100:.2f}% （{liked_unique_users}/{total_unique_users}）\")\n",
    "\n",
    "\n",
    "# 5.2 分组分享率计算（用户细分、产品、地区）\n",
    "def calculate_share_rate(group, user_col='Customer ID', share_col='Share'):\n",
    "    \"\"\"计算分组内的分享率：分享用户数 / 总用户数\"\"\"\n",
    "    total_users = group[user_col].nunique()\n",
    "    shared_users = group[group[share_col] == 1][user_col].nunique()\n",
    "    return (shared_users / total_users) * 100 if total_users != 0 else 0\n",
    "\n",
    "# 5.2.1 按用户细分（Segment）\n",
    "share_rate_segment = df.groupby('Segment').apply(\n",
    "    calculate_share_rate\n",
    ").reset_index(name='分享率(%)').round(2)\n",
    "\n",
    "# 5.2.2 按产品（Product）\n",
    "share_rate_product = df.groupby('Product').apply(\n",
    "    calculate_share_rate\n",
    ").reset_index(name='分享率(%)').sort_values('分享率(%)', ascending=False).head(10).round(2)\n",
    "\n",
    "# 5.2.3 按地区（Region）\n",
    "share_rate_region = df.groupby('Region').apply(\n",
    "    calculate_share_rate\n",
    ").reset_index(name='分享率(%)').sort_values('分享率(%)', ascending=False).head(10).round(2)\n",
    "\n",
    "\n",
    "# 5.3 分享用户 vs 未分享用户的消费差异\n",
    "shared_users_df = df[df['Share'] == 1]\n",
    "non_shared_users_df = df[df['Share'] == 0]\n",
    "\n",
    "# 计算均值（已清洗为数值类型，可直接计算）\n",
    "shared_stats = shared_users_df.groupby('Customer ID').agg({\n",
    "    'Sales': 'mean',\n",
    "    'Profit': 'mean',\n",
    "    'Quantity': 'mean'\n",
    "}).mean().rename('分享用户').round(2)\n",
    "\n",
    "non_shared_stats = non_shared_users_df.groupby('Customer ID').agg({\n",
    "    'Sales': 'mean',\n",
    "    'Profit': 'mean',\n",
    "    'Quantity': 'mean'\n",
    "}).mean().rename('未分享用户').round(2)\n",
    "\n",
    "# 合并并计算差异\n",
    "share_effect = pd.concat([shared_stats, non_shared_stats], axis=1)\n",
    "share_effect['差异(%)'] = ((share_effect['分享用户'] / share_effect['未分享用户'] - 1) * 100).round(2)\n",
    "\n",
    "\n",
    "# ================ 6. 结果输出（确保业务可读性） ================\n",
    "print(\"\\n=== 2.1 不同用户细分的分享率（去重后） ===\")\n",
    "print(share_rate_segment)\n",
    "\n",
    "print(\"\\n=== 2.2 Top10高分享产品（去重后） ===\")\n",
    "print(share_rate_product.head(5))  # 展示Top5简化\n",
    "\n",
    "print(\"\\n=== 2.3 Top10高分享地区（去重后） ===\")\n",
    "print(share_rate_region.head(5))   # 展示Top5简化\n",
    "\n",
    "print(\"\\n=== 3. 分享用户 vs 未分享用户的消费差异（去重后） ===\")\n",
    "print(share_effect)"
   ]
  }
 ],
 "metadata": {
  "kaggle": {
   "accelerator": "none",
   "dataSources": [
    {
     "datasetId": 7837755,
     "sourceId": 12426236,
     "sourceType": "datasetVersion"
    }
   ],
   "dockerImageVersionId": 31089,
   "isGpuEnabled": false,
   "isInternetEnabled": true,
   "language": "python",
   "sourceType": "notebook"
  },
  "kernelspec": {
   "display_name": "Python 3",
   "language": "python",
   "name": "python3"
  },
  "language_info": {
   "codemirror_mode": {
    "name": "ipython",
    "version": 3
   },
   "file_extension": ".py",
   "mimetype": "text/x-python",
   "name": "python",
   "nbconvert_exporter": "python",
   "pygments_lexer": "ipython3",
   "version": "3.11.13"
  },
  "papermill": {
   "default_parameters": {},
   "duration": 13.187494,
   "end_time": "2025-07-11T16:15:59.503568",
   "environment_variables": {},
   "exception": null,
   "input_path": "__notebook__.ipynb",
   "output_path": "__notebook__.ipynb",
   "parameters": {},
   "start_time": "2025-07-11T16:15:46.316074",
   "version": "2.6.0"
  }
 },
 "nbformat": 4,
 "nbformat_minor": 5
}
